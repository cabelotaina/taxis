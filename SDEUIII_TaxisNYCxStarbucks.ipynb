{
  "nbformat": 4,
  "nbformat_minor": 0,
  "metadata": {
    "colab": {
      "name": "SDEUIII-TaxisNYCxStarbucks",
      "provenance": [],
      "collapsed_sections": [],
      "include_colab_link": true
    },
    "kernelspec": {
      "name": "python3",
      "display_name": "Python 3"
    }
  },
  "cells": [
    {
      "cell_type": "markdown",
      "metadata": {
        "id": "view-in-github",
        "colab_type": "text"
      },
      "source": [
        "<a href=\"https://colab.research.google.com/github/cabelotaina/taxis/blob/master/SDEUIII_TaxisNYCxStarbucks.ipynb\" target=\"_parent\"><img src=\"https://colab.research.google.com/assets/colab-badge.svg\" alt=\"Open In Colab\"/></a>"
      ]
    },
    {
      "cell_type": "markdown",
      "metadata": {
        "id": "oomr71nACb8z",
        "colab_type": "text"
      },
      "source": [
        "## Import de librerias y datasets"
      ]
    },
    {
      "cell_type": "code",
      "metadata": {
        "id": "YhG_GCUq2CkJ",
        "colab_type": "code",
        "colab": {}
      },
      "source": [
        "import pandas as pd\n",
        "from geopy import distance\n",
        "import time\n",
        "import numpy as np\n",
        "from math import radians, sin, cos, sqrt, asin\n",
        "\n",
        "iter_csv = pd.read_csv(\"https://www.dropbox.com/s/lowbxfx2uohlxy3/All_Starbucks_Locations_in_the_US_2013.csv?dl=1\", iterator=True)\n",
        "taxis = pd.read_csv('https://raw.githubusercontent.com/cabelotaina/taxis/master/taxi-mau.csv')"
      ],
      "execution_count": 0,
      "outputs": []
    },
    {
      "cell_type": "markdown",
      "metadata": {
        "id": "sUm3NMydCQsN",
        "colab_type": "text"
      },
      "source": [
        "## Filtro de starbucks NYC"
      ]
    },
    {
      "cell_type": "code",
      "metadata": {
        "id": "c0hjRedj2Eis",
        "colab_type": "code",
        "colab": {}
      },
      "source": [
        "starbucks = pd.concat([chunk[chunk['City'] == \"New York\"] for chunk in iter_csv])"
      ],
      "execution_count": 0,
      "outputs": []
    },
    {
      "cell_type": "markdown",
      "metadata": {
        "id": "TrKi4W1kCLB9",
        "colab_type": "text"
      },
      "source": [
        "## Funciones utiles"
      ]
    },
    {
      "cell_type": "code",
      "metadata": {
        "id": "JpTPMsTF2NnM",
        "colab_type": "code",
        "colab": {}
      },
      "source": [
        "def dist(slatitude, slongitude, tlatitude, tlongitude):\n",
        "  center_point = [{'lat': slatitude, 'lng': slongitude}]\n",
        "  test_point = [{'lat': tlatitude, 'lng': tlongitude}]\n",
        "  radius = .3 # in kilometer\n",
        "\n",
        "  center_point_tuple = tuple(center_point[0].values())\n",
        "  test_point_tuple = tuple(test_point[0].values())\n",
        "\n",
        "  dis = distance.distance(center_point_tuple, test_point_tuple).km\n",
        "\n",
        "  if dis <= radius:\n",
        "      return 1\n",
        "  else:\n",
        "    return 0"
      ],
      "execution_count": 0,
      "outputs": []
    },
    {
      "cell_type": "code",
      "metadata": {
        "id": "WNaUD-e62bQj",
        "colab_type": "code",
        "colab": {}
      },
      "source": [
        "def find_nearest(array, value):\n",
        "    return (6378.14 * np.abs(array - value)).argmin()"
      ],
      "execution_count": 0,
      "outputs": []
    },
    {
      "cell_type": "code",
      "metadata": {
        "id": "vl6riXyX7pa3",
        "colab_type": "code",
        "colab": {}
      },
      "source": [
        "def haversine(lat1, lon1, lat2, lon2):\n",
        "    R = 6378.14  # Earth radius in kilometers\n",
        " \n",
        "    dLat = radians(lat2 - lat1)\n",
        "    dLon = radians(lon2 - lon1)\n",
        "    lat1 = radians(lat1)\n",
        "    lat2 = radians(lat2)\n",
        " \n",
        "    a = sin(dLat / 2)**2 + cos(lat1) * cos(lat2) * sin(dLon / 2)**2\n",
        "    c = 2 * asin(sqrt(a))\n",
        " \n",
        "    return (R * c) < .3"
      ],
      "execution_count": 0,
      "outputs": []
    },
    {
      "cell_type": "markdown",
      "metadata": {
        "id": "x4EA8Hj3Cok_",
        "colab_type": "text"
      },
      "source": [
        "## Solucion con lambda function\n",
        "\n",
        "Esta solución aunque funcina no fue la utilizada en el test final, he puesto en el código solo como referencia para futuros usos."
      ]
    },
    {
      "cell_type": "code",
      "metadata": {
        "id": "ygO0WTBM9WjG",
        "colab_type": "code",
        "colab": {}
      },
      "source": [
        "# solution = taxis.apply(lambda t: sum(starbucks.apply(lambda s: haversine(s.Latitude, s.Longitude, t.dropoff_latitude, t.dropoff_longitude), axis=1)), axis=1)"
      ],
      "execution_count": 0,
      "outputs": []
    },
    {
      "cell_type": "markdown",
      "metadata": {
        "id": "KpphfJDSCt0w",
        "colab_type": "text"
      },
      "source": [
        "## Solucion con loop"
      ]
    },
    {
      "cell_type": "code",
      "metadata": {
        "id": "W5O9rqsK2XGD",
        "colab_type": "code",
        "outputId": "a171b29f-3d96-4626-bce1-c0dc6e01c549",
        "colab": {
          "base_uri": "https://localhost:8080/",
          "height": 1000
        }
      },
      "source": [
        "a = np.array([])\n",
        "for index, s in starbucks.iterrows():\n",
        "  start = time.time()\n",
        "  a = np.append(a, [sum(taxis.apply(lambda t: haversine(s.Latitude, s.Longitude, t.dropoff_latitude, t.dropoff_longitude), axis=1))], axis=0)\n",
        "  end = time.time()\n",
        "  print(end - start)"
      ],
      "execution_count": 0,
      "outputs": [
        {
          "output_type": "stream",
          "text": [
            "25.80560040473938\n",
            "25.845205307006836\n",
            "25.834454774856567\n",
            "25.87264585494995\n",
            "25.766249418258667\n",
            "25.83156418800354\n",
            "25.840522289276123\n",
            "25.84158706665039\n",
            "25.84925103187561\n",
            "25.790700674057007\n",
            "25.751082181930542\n",
            "25.768157958984375\n",
            "25.783809661865234\n",
            "25.793046236038208\n",
            "25.82379698753357\n",
            "25.7846736907959\n",
            "25.73191785812378\n",
            "25.77016568183899\n",
            "25.746886491775513\n",
            "25.796064853668213\n",
            "25.80820393562317\n",
            "25.783207654953003\n",
            "25.855587005615234\n",
            "25.833076238632202\n",
            "25.85538101196289\n",
            "25.896995306015015\n",
            "25.89078116416931\n",
            "26.003593683242798\n",
            "25.950501441955566\n",
            "25.751240253448486\n",
            "25.878525495529175\n",
            "25.956302404403687\n",
            "25.994080066680908\n",
            "25.790174961090088\n",
            "25.862668752670288\n",
            "25.897741079330444\n",
            "25.888676166534424\n",
            "25.896021127700806\n",
            "25.946218490600586\n",
            "25.875688314437866\n",
            "25.975347757339478\n",
            "25.91634964942932\n",
            "29.7262442111969\n",
            "25.97028160095215\n",
            "25.930271863937378\n",
            "25.950490951538086\n",
            "25.95731806755066\n",
            "25.86587882041931\n",
            "25.824806928634644\n",
            "25.898590803146362\n",
            "25.857393264770508\n",
            "25.883275032043457\n",
            "25.866612672805786\n",
            "26.05693817138672\n",
            "25.895614862442017\n",
            "25.790528535842896\n",
            "25.90251135826111\n",
            "25.731737852096558\n",
            "25.88144540786743\n",
            "25.91085147857666\n",
            "25.950487852096558\n",
            "25.888908863067627\n",
            "26.255497455596924\n",
            "25.894914388656616\n",
            "25.986661195755005\n",
            "30.803571224212646\n",
            "26.15220594406128\n",
            "26.117985725402832\n",
            "26.070516109466553\n",
            "26.025256156921387\n",
            "25.965952157974243\n",
            "25.961149215698242\n",
            "26.04553985595703\n",
            "26.003085136413574\n",
            "25.912240743637085\n",
            "25.865156650543213\n",
            "25.841114044189453\n",
            "25.881694793701172\n",
            "25.892175674438477\n",
            "26.061756134033203\n",
            "26.08009099960327\n",
            "26.06671690940857\n",
            "25.99516797065735\n",
            "26.08225417137146\n",
            "26.068265438079834\n",
            "26.121840953826904\n",
            "26.049364805221558\n",
            "26.07344388961792\n",
            "25.98399782180786\n",
            "25.80061435699463\n",
            "25.82892680168152\n",
            "25.92949628829956\n",
            "25.803670167922974\n",
            "25.875928163528442\n",
            "25.832415342330933\n",
            "25.965667963027954\n",
            "25.78696060180664\n",
            "25.838343858718872\n",
            "25.740595817565918\n",
            "25.750526428222656\n",
            "25.755236387252808\n",
            "25.762404441833496\n",
            "25.782646656036377\n",
            "25.82780432701111\n",
            "25.788400173187256\n",
            "25.886993408203125\n",
            "25.932830095291138\n",
            "25.968446969985962\n",
            "26.026846647262573\n",
            "25.897950410842896\n",
            "26.13903284072876\n",
            "25.95422887802124\n",
            "25.916894674301147\n",
            "26.00188446044922\n",
            "26.00721311569214\n",
            "26.49483299255371\n",
            "26.271195650100708\n",
            "26.478556156158447\n",
            "26.400033950805664\n",
            "26.38172721862793\n",
            "25.97210454940796\n",
            "25.758987426757812\n",
            "25.8682804107666\n",
            "25.840137720108032\n",
            "25.963542461395264\n",
            "25.963337898254395\n",
            "25.897599935531616\n",
            "25.979926109313965\n",
            "25.939424753189087\n",
            "25.944489002227783\n",
            "25.828662157058716\n",
            "25.8584725856781\n",
            "25.912458181381226\n",
            "25.887551069259644\n",
            "25.943090438842773\n",
            "25.856471300125122\n",
            "25.980359077453613\n",
            "25.885483264923096\n",
            "25.961668491363525\n",
            "26.09364652633667\n",
            "26.216265439987183\n",
            "25.940268993377686\n",
            "26.143799781799316\n",
            "25.9795982837677\n",
            "25.999207258224487\n",
            "25.9794020652771\n",
            "25.9462411403656\n",
            "25.92239260673523\n",
            "25.881441831588745\n",
            "25.822580575942993\n",
            "25.900570154190063\n",
            "25.993285179138184\n",
            "25.855420351028442\n",
            "25.919270277023315\n",
            "25.961061239242554\n",
            "25.858567237854004\n",
            "25.853949069976807\n",
            "25.897748231887817\n",
            "25.7860586643219\n",
            "25.835822820663452\n",
            "25.66149640083313\n",
            "25.684578895568848\n",
            "25.82248091697693\n",
            "26.13956308364868\n",
            "26.807014226913452\n",
            "26.286566495895386\n",
            "25.900824785232544\n",
            "25.990838766098022\n",
            "26.554175853729248\n",
            "26.745267152786255\n",
            "26.007951974868774\n",
            "26.507230520248413\n",
            "27.37076711654663\n",
            "26.182292461395264\n",
            "26.189525842666626\n",
            "26.60464906692505\n",
            "26.186361074447632\n",
            "26.544355630874634\n",
            "26.33001184463501\n",
            "26.120153427124023\n",
            "25.902888774871826\n",
            "25.95666193962097\n",
            "25.809277534484863\n",
            "25.92527937889099\n",
            "26.024550914764404\n",
            "26.054025411605835\n",
            "26.107135772705078\n",
            "26.80890989303589\n",
            "27.052972316741943\n",
            "26.081959009170532\n",
            "26.565580368041992\n",
            "26.79531192779541\n",
            "27.01382303237915\n",
            "26.253188371658325\n",
            "26.730552434921265\n",
            "26.31092381477356\n",
            "26.2229220867157\n",
            "26.07803964614868\n",
            "26.072810649871826\n",
            "26.348480463027954\n",
            "26.110847234725952\n",
            "26.08627414703369\n"
          ],
          "name": "stdout"
        }
      ]
    },
    {
      "cell_type": "code",
      "metadata": {
        "id": "5B66l8FhCQYs",
        "colab_type": "code",
        "colab": {}
      },
      "source": [
        "indexs = np.argsort(a)"
      ],
      "execution_count": 0,
      "outputs": []
    },
    {
      "cell_type": "code",
      "metadata": {
        "id": "MQZEXjlIn_KQ",
        "colab_type": "code",
        "outputId": "7c588d91-db4d-4855-aa8a-07a3eed005bf",
        "colab": {
          "base_uri": "https://localhost:8080/",
          "height": 34
        }
      },
      "source": [
        "len(indexs)"
      ],
      "execution_count": 0,
      "outputs": [
        {
          "output_type": "execute_result",
          "data": {
            "text/plain": [
              "202"
            ]
          },
          "metadata": {
            "tags": []
          },
          "execution_count": 125
        }
      ]
    },
    {
      "cell_type": "markdown",
      "metadata": {
        "id": "8C8Vb63vC60S",
        "colab_type": "text"
      },
      "source": [
        "## Resultados\n",
        "\n",
        "Los cinco starbucks mas visitados (dropoff - latitude y longitude x latitude y longitude starbucks)"
      ]
    },
    {
      "cell_type": "code",
      "metadata": {
        "id": "mHvAyLQ1olpq",
        "colab_type": "code",
        "outputId": "2813d603-1256-4dcb-e753-3c75c7c98726",
        "colab": {
          "base_uri": "https://localhost:8080/",
          "height": 425
        }
      },
      "source": [
        "starbucks.iloc[indexs[len(indexs)-1]]"
      ],
      "execution_count": 0,
      "outputs": [
        {
          "output_type": "execute_result",
          "data": {
            "text/plain": [
              "Brand                                                          Starbucks\n",
              "Store Number                                                        8965\n",
              "Name                                         51st between Park & Madison\n",
              "Ownership Type                                             Company Owned\n",
              "Facility ID                                                        13907\n",
              "Features - Products                              Lunch, Oven-warmed Food\n",
              "Features - Service     iTunes WiFi Music Store, Starbucks Card Mobile...\n",
              "Features - Stations                                                  NaN\n",
              "Food Region                                                         9999\n",
              "Venue Type                                                       Unknown\n",
              "Phone Number                                                212-688-8834\n",
              "Location               45 E. 51st Street\\nNew York, NY 10022-5901\\n(4...\n",
              "Street Address                                         45 E. 51st Street\n",
              "Street Line 1                                          45 E. 51st Street\n",
              "Street Line 2                                                        NaN\n",
              "City                                                            New York\n",
              "State                                                                 NY\n",
              "Zip                                                           10022-5901\n",
              "Country                                                               US\n",
              "Coordinates                                      (40.758144, -73.974267)\n",
              "Latitude                                                         40.7581\n",
              "Longitude                                                       -73.9743\n",
              "Insert Date                                       06/22/2012 06:19:44 PM\n",
              "Name: 679, dtype: object"
            ]
          },
          "metadata": {
            "tags": []
          },
          "execution_count": 130
        }
      ]
    },
    {
      "cell_type": "code",
      "metadata": {
        "id": "p3i78ZgDo5WA",
        "colab_type": "code",
        "outputId": "fa1ceb07-7360-4d4b-94ac-4a32ca000455",
        "colab": {
          "base_uri": "https://localhost:8080/",
          "height": 34
        }
      },
      "source": [
        "a[indexs[len(indexs)-1]]"
      ],
      "execution_count": 0,
      "outputs": [
        {
          "output_type": "stream",
          "text": [
            "11881.0\n"
          ],
          "name": "stdout"
        }
      ]
    },
    {
      "cell_type": "code",
      "metadata": {
        "id": "sas07ZyMo80M",
        "colab_type": "code",
        "outputId": "208a0802-177b-4f73-eae1-e6954601d60d",
        "colab": {
          "base_uri": "https://localhost:8080/",
          "height": 425
        }
      },
      "source": [
        "starbucks.iloc[indexs[len(indexs)-2]]"
      ],
      "execution_count": 0,
      "outputs": [
        {
          "output_type": "execute_result",
          "data": {
            "text/plain": [
              "Brand                                                          Starbucks\n",
              "Store Number                                                        7424\n",
              "Name                                                         48th & Park\n",
              "Ownership Type                                             Company Owned\n",
              "Facility ID                                                        16722\n",
              "Features - Products                              Lunch, Oven-warmed Food\n",
              "Features - Service     iTunes WiFi Music Store, Starbucks Card Mobile...\n",
              "Features - Stations                                                  NaN\n",
              "Food Region                                                         9999\n",
              "Venue Type                                                       Unknown\n",
              "Phone Number                                                212-573-9869\n",
              "Location               280 Park Avenue\\nNew York, NY 10017-1216\\n(40....\n",
              "Street Address                                           280 Park Avenue\n",
              "Street Line 1                                            280 Park Avenue\n",
              "Street Line 2                                                        NaN\n",
              "City                                                            New York\n",
              "State                                                                 NY\n",
              "Zip                                                           10017-1216\n",
              "Country                                                               US\n",
              "Coordinates                                      (40.756423, -73.975073)\n",
              "Latitude                                                         40.7564\n",
              "Longitude                                                       -73.9751\n",
              "Insert Date                                       06/22/2012 06:19:44 PM\n",
              "Name: 686, dtype: object"
            ]
          },
          "metadata": {
            "tags": []
          },
          "execution_count": 132
        }
      ]
    },
    {
      "cell_type": "code",
      "metadata": {
        "id": "k1HIqXSBpFfA",
        "colab_type": "code",
        "outputId": "4b3ce0c8-6821-4617-90a2-b29a8f179e87",
        "colab": {
          "base_uri": "https://localhost:8080/",
          "height": 34
        }
      },
      "source": [
        "a[indexs[len(indexs)-2]]"
      ],
      "execution_count": 0,
      "outputs": [
        {
          "output_type": "execute_result",
          "data": {
            "text/plain": [
              "11788.0"
            ]
          },
          "metadata": {
            "tags": []
          },
          "execution_count": 133
        }
      ]
    },
    {
      "cell_type": "code",
      "metadata": {
        "id": "fq0Ov8thpHlB",
        "colab_type": "code",
        "outputId": "e7ed0900-b51e-4397-e1e7-f5782cc37f64",
        "colab": {
          "base_uri": "https://localhost:8080/",
          "height": 425
        }
      },
      "source": [
        "starbucks.iloc[indexs[len(indexs)-3]]"
      ],
      "execution_count": 0,
      "outputs": [
        {
          "output_type": "execute_result",
          "data": {
            "text/plain": [
              "Brand                                                          Starbucks\n",
              "Store Number                                                       75846\n",
              "Name                                                     Waldorf-Astoria\n",
              "Ownership Type                                                  Licensed\n",
              "Facility ID                                                         8058\n",
              "Features - Products                                                  NaN\n",
              "Features - Service                                                   NaN\n",
              "Features - Stations                                                  NaN\n",
              "Food Region                                                         9999\n",
              "Venue Type                                                       Unknown\n",
              "Phone Number                                                212-872-4844\n",
              "Location               301 Park Ave\\nNew York, NY 10022-6844\\n(40.756...\n",
              "Street Address                                              301 Park Ave\n",
              "Street Line 1                                               301 Park Ave\n",
              "Street Line 2                                                        NaN\n",
              "City                                                            New York\n",
              "State                                                                 NY\n",
              "Zip                                                           10022-6844\n",
              "Country                                                               US\n",
              "Coordinates                                        (40.75656, -73.97405)\n",
              "Latitude                                                         40.7566\n",
              "Longitude                                                       -73.9741\n",
              "Insert Date                                       06/22/2012 06:19:44 PM\n",
              "Name: 682, dtype: object"
            ]
          },
          "metadata": {
            "tags": []
          },
          "execution_count": 134
        }
      ]
    },
    {
      "cell_type": "code",
      "metadata": {
        "id": "B-9AOWA3pJGI",
        "colab_type": "code",
        "outputId": "c1f38f95-d355-4320-8b85-6676b9766519",
        "colab": {
          "base_uri": "https://localhost:8080/",
          "height": 34
        }
      },
      "source": [
        "a[indexs[len(indexs)-3]]"
      ],
      "execution_count": 0,
      "outputs": [
        {
          "output_type": "execute_result",
          "data": {
            "text/plain": [
              "11684.0"
            ]
          },
          "metadata": {
            "tags": []
          },
          "execution_count": 135
        }
      ]
    },
    {
      "cell_type": "code",
      "metadata": {
        "id": "yZ9CzaPXpQAA",
        "colab_type": "code",
        "outputId": "4c3a6216-87f5-4758-e78b-e1f0d1e9a9ce",
        "colab": {
          "base_uri": "https://localhost:8080/",
          "height": 425
        }
      },
      "source": [
        "starbucks.iloc[indexs[len(indexs)-4]]"
      ],
      "execution_count": 0,
      "outputs": [
        {
          "output_type": "execute_result",
          "data": {
            "text/plain": [
              "Brand                                                          Starbucks\n",
              "Store Number                                                       15388\n",
              "Name                                  ARAMARK @ JP Morgan Chase New York\n",
              "Ownership Type                                                  Licensed\n",
              "Facility ID                                                        52074\n",
              "Features - Products                              Lunch, Oven-warmed Food\n",
              "Features - Service                                                   NaN\n",
              "Features - Stations                                                  NaN\n",
              "Food Region                                                            0\n",
              "Venue Type                                                       Unknown\n",
              "Phone Number                                                646-285-7181\n",
              "Location               270 Park Ave\\nNew York, NY 10017-2014\\n(40.755...\n",
              "Street Address                                              270 Park Ave\n",
              "Street Line 1                                               270 Park Ave\n",
              "Street Line 2                                                        NaN\n",
              "City                                                            New York\n",
              "State                                                                 NY\n",
              "Zip                                                           10017-2014\n",
              "Country                                                               US\n",
              "Coordinates                                       (40.75582, -73.975683)\n",
              "Latitude                                                         40.7558\n",
              "Longitude                                                       -73.9757\n",
              "Insert Date                                       06/22/2012 06:19:44 PM\n",
              "Name: 693, dtype: object"
            ]
          },
          "metadata": {
            "tags": []
          },
          "execution_count": 136
        }
      ]
    },
    {
      "cell_type": "code",
      "metadata": {
        "id": "Jw6gGJ0rpSGv",
        "colab_type": "code",
        "outputId": "d1d29a61-6223-48d3-e44b-933dddcf9eb8",
        "colab": {
          "base_uri": "https://localhost:8080/",
          "height": 34
        }
      },
      "source": [
        "a[indexs[len(indexs)-4]]"
      ],
      "execution_count": 0,
      "outputs": [
        {
          "output_type": "execute_result",
          "data": {
            "text/plain": [
              "11678.0"
            ]
          },
          "metadata": {
            "tags": []
          },
          "execution_count": 137
        }
      ]
    },
    {
      "cell_type": "code",
      "metadata": {
        "id": "Yl22G6nupTkQ",
        "colab_type": "code",
        "outputId": "6cea355e-4886-499d-a2eb-b58490e2460c",
        "colab": {
          "base_uri": "https://localhost:8080/",
          "height": 425
        }
      },
      "source": [
        "starbucks.iloc[indexs[len(indexs)-5]]"
      ],
      "execution_count": 0,
      "outputs": [
        {
          "output_type": "execute_result",
          "data": {
            "text/plain": [
              "Brand                                                          Starbucks\n",
              "Store Number                                                        7373\n",
              "Name                                               Grand Central Station\n",
              "Ownership Type                                             Company Owned\n",
              "Facility ID                                                        13503\n",
              "Features - Products                                                Lunch\n",
              "Features - Service                                 Starbucks Card Mobile\n",
              "Features - Stations                                                  NaN\n",
              "Food Region                                                         9999\n",
              "Venue Type                                                       Unknown\n",
              "Phone Number                                                212-599-4368\n",
              "Location               107 E 43rd St, Space MC-72\\nNew York, NY 10170...\n",
              "Street Address                                107 E 43rd St, Space MC-72\n",
              "Street Line 1                                              107 E 43rd St\n",
              "Street Line 2                                                Space MC-72\n",
              "City                                                            New York\n",
              "State                                                                 NY\n",
              "Zip                                                           10170-0003\n",
              "Country                                                               US\n",
              "Coordinates                                      (40.753291, -73.977635)\n",
              "Latitude                                                         40.7533\n",
              "Longitude                                                       -73.9776\n",
              "Insert Date                                       06/22/2012 06:19:44 PM\n",
              "Name: 705, dtype: object"
            ]
          },
          "metadata": {
            "tags": []
          },
          "execution_count": 138
        }
      ]
    },
    {
      "cell_type": "code",
      "metadata": {
        "id": "m8V-hvKopTX4",
        "colab_type": "code",
        "outputId": "e292eab7-09bf-417a-996f-750e12c8d3b2",
        "colab": {
          "base_uri": "https://localhost:8080/",
          "height": 34
        }
      },
      "source": [
        "a[indexs[len(indexs)-5]]"
      ],
      "execution_count": 0,
      "outputs": [
        {
          "output_type": "execute_result",
          "data": {
            "text/plain": [
              "11669.0"
            ]
          },
          "metadata": {
            "tags": []
          },
          "execution_count": 139
        }
      ]
    }
  ]
}